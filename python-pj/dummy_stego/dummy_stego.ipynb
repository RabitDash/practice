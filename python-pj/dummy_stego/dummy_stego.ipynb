{
 "cells": [
  {
   "cell_type": "code",
   "execution_count": 1,
   "id": "f602d01a-60c4-4d08-b0db-1ed17138ef58",
   "metadata": {
    "tags": []
   },
   "outputs": [],
   "source": [
    "import numpy as np\n",
    "import pickle\n",
    "f_handle = open(\"vocab.pkl\", \"rb\")\n",
    "vocab = pickle.load(f_handle)\n",
    "vocab = vocab[2:] # remove <pad>, <unk>\n",
    "\n",
    "candidate_num = 1000 #候选词数量\n",
    "\n",
    "def softmax(x):\n",
    "    \"\"\"Compute softmax values for each sets of scores in x.\"\"\"\n",
    "    e_x = np.exp(x - np.max(x))\n",
    "    return e_x / e_x.sum()\n",
    "\n",
    "def dummy_linguistic_model(context:list):\n",
    "    # shuffle\n",
    "    seed = 0\n",
    "    for token in context:\n",
    "        seed += vocab.index(token)\n",
    "    np.random.seed(seed)\n",
    "    index = [i for i in range(len(vocab))]\n",
    "    np.random.shuffle(index)\n",
    "    candidate_token_index = index[:candidate_num]\n",
    "    candidate_token_str   = list(map(lambda i: vocab[i], candidate_token_index))\n",
    "    # make prob\n",
    "    candidate_probability = softmax(np.random.standard_normal(candidate_num))\n",
    "    # make dict\n",
    "    candidate_token_prob_dict = dict(zip(candidate_token_str, candidate_probability))\n",
    "    return candidate_token_prob_dict"
   ]
  },
  {
   "cell_type": "code",
   "execution_count": 4,
   "id": "1a742d1f-40b4-4ae5-bd44-8685294605de",
   "metadata": {},
   "outputs": [],
   "source": [
    "import bitarray\n",
    "import huffman"
   ]
  },
  {
   "cell_type": "code",
   "execution_count": 15,
   "id": "6681111e-969b-4459-ad52-f5856bb3a6a3",
   "metadata": {},
   "outputs": [],
   "source": [
    "def encode_dummy(hidden_msg):\n",
    "    ba = bitarray.bitarray()\n",
    "    ba.frombytes(hidden_msg.encode('utf-8'))\n",
    "    msg_bits_list = ba.tolist()\n",
    "    msg_bits_length = len(msg_bits_list)\n",
    "\n",
    "    sentence = []\n",
    "    i = 0\n",
    "    encode_msg_bits = []\n",
    "\n",
    "    while i < msg_bits_length:\n",
    "        token_prob_dict = dummy_linguistic_model(sentence)\n",
    "\n",
    "        coding = huffman.HuffmanCoding()\n",
    "        coding.make_heap(token_prob_dict)\n",
    "        coding.merge_nodes()\n",
    "\n",
    "        root = coding.make_codes()\n",
    "\n",
    "        while root.token is None:\n",
    "            if i >= msg_bits_length or msg_bits_list[i] == 0:\n",
    "                root = root.left\n",
    "            else:\n",
    "                root = root.right\n",
    "            i += 1\n",
    "\n",
    "        selection = root.token\n",
    "#         print(coding.get_encoded_tokens([selection]))\n",
    "        sentence += [selection]\n",
    "        encode_msg_bits += coding.get_encoded_tokens([selection])\n",
    "    return ' '.join(sentence)"
   ]
  },
  {
   "cell_type": "code",
   "execution_count": 72,
   "id": "32120309-d8e5-40b2-b480-e6e3a9ee6586",
   "metadata": {},
   "outputs": [],
   "source": [
    "def decode_dummy(sentence):\n",
    "    decode_msg_bits = ''\n",
    "    sentence = sentence.split(' ')\n",
    "    for x in range(len(sentence)):\n",
    "        token_prob_dict = dummy_linguistic_model(sentence[:x])\n",
    "        coding = huffman.HuffmanCoding()\n",
    "        coding.make_heap(token_prob_dict)\n",
    "        coding.merge_nodes()\n",
    "        root = coding.make_codes()\n",
    "        decode_msg_bits += coding.get_encoded_tokens([sentence[x]])\n",
    "    def decode_from_bits(bits):\n",
    "        if type(bits) is str:\n",
    "            bits = list(map(int, bits))\n",
    "        bits = bits[:int(len(bits)/8) * 8] # utf-8编码中bit长度是8的整数倍\n",
    "        ba = bitarray.bitarray(bits)\n",
    "        \n",
    "        msg_str=ba.tobytes().decode('utf-8','ignore')\n",
    "        return msg_str\n",
    "    return decode_from_bits(decode_msg_bits)"
   ]
  },
  {
   "cell_type": "code",
   "execution_count": 73,
   "id": "a96c6557-d049-4a12-921a-ceafbdc5f56f",
   "metadata": {},
   "outputs": [],
   "source": [
    "sentence = encode_dummy(\"快进到煎饼果子\")"
   ]
  },
  {
   "cell_type": "code",
   "execution_count": 74,
   "id": "c1bbfeaf-cb74-4edc-bebd-5ac5c02ed1e2",
   "metadata": {},
   "outputs": [],
   "source": [
    "msg = decode_dummy(sentence)"
   ]
  },
  {
   "cell_type": "code",
   "execution_count": 75,
   "id": "4fa4bcb6-40a5-409a-9d08-b66a7b0f280b",
   "metadata": {},
   "outputs": [
    {
     "data": {
      "text/plain": [
       "'快进到煎饼果子'"
      ]
     },
     "execution_count": 75,
     "metadata": {},
     "output_type": "execute_result"
    }
   ],
   "source": [
    "msg"
   ]
  },
  {
   "cell_type": "code",
   "execution_count": null,
   "id": "51753c48-9b8f-4f80-81e7-b1c5a780f0d3",
   "metadata": {},
   "outputs": [],
   "source": []
  }
 ],
 "metadata": {
  "kernelspec": {
   "display_name": "Python 3",
   "language": "python",
   "name": "python3"
  },
  "language_info": {
   "codemirror_mode": {
    "name": "ipython",
    "version": 3
   },
   "file_extension": ".py",
   "mimetype": "text/x-python",
   "name": "python",
   "nbconvert_exporter": "python",
   "pygments_lexer": "ipython3",
   "version": "3.8.5"
  }
 },
 "nbformat": 4,
 "nbformat_minor": 5
}
