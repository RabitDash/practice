{
 "cells": [
  {
   "cell_type": "code",
   "execution_count": 1,
   "metadata": {},
   "outputs": [],
   "source": [
    "import pandas as pd"
   ]
  },
  {
   "cell_type": "code",
   "execution_count": 2,
   "metadata": {},
   "outputs": [],
   "source": [
    "import time"
   ]
  },
  {
   "cell_type": "code",
   "execution_count": 3,
   "metadata": {},
   "outputs": [],
   "source": [
    "import os"
   ]
  },
  {
   "cell_type": "code",
   "execution_count": 4,
   "metadata": {},
   "outputs": [],
   "source": [
    "edge_data = pd.read_csv(\"Gowalla_edges.txt\",\n",
    "                       sep='\\t',\n",
    "                        header=None,\n",
    "                       iterator=True)"
   ]
  },
  {
   "cell_type": "raw",
   "metadata": {},
   "source": [
    "checkin_data_iter = pd.read_csv(\"Gowalla_totalCheckins.txt\",\n",
    "                          sep = '\\t',\n",
    "                           header=None,\n",
    "                           usecols=[0,1,4],\n",
    "                          iterator=True)"
   ]
  },
  {
   "cell_type": "raw",
   "metadata": {
    "scrolled": true
   },
   "source": [
    "def process_checkin(pditer):\n",
    "    result = pd.DataFrame()\n",
    "    num = 0.0\n",
    "    if os.path.exists(\"result.csv\"):\n",
    "        return\n",
    "    try:\n",
    "        while True:\n",
    "            checkin = pditer.read(10000)\n",
    "            num += 10000.0\n",
    "            progress = num / 6442892.0\n",
    "            print(\"Processed {}\".format(progress * 100.0))\n",
    "            \n",
    "            checkin[1] = utc2stamp(checkin[1])\n",
    "            checkin.to_csv(\"result.csv\",mode='a+',sep='\\t',header=None, index=None)\n",
    "#             result = result.append(checkin)\n",
    "#             print(result)\n",
    "\n",
    "    except StopIteration:\n",
    "        print(\"Finished\")\n",
    "        \n",
    "                    "
   ]
  },
  {
   "cell_type": "code",
   "execution_count": 5,
   "metadata": {},
   "outputs": [],
   "source": [
    "checkin_data = pd.read_csv(\"Gowalla_totalCheckins.txt\",\n",
    "                          sep = '\\t',\n",
    "                           header=None,\n",
    "                           usecols=[0,1,4],\n",
    "                          iterator=False)"
   ]
  },
  {
   "cell_type": "code",
   "execution_count": 6,
   "metadata": {},
   "outputs": [],
   "source": [
    "# utc2stamp  将UTC时间转化为数值型的时间戳\n",
    "def utc2stamp(utc_time):\n",
    "    stamp_list = []\n",
    "    for x in utc_time:\n",
    "        tm = time.strptime(x, '%Y-%m-%dT%H:%M:%SZ')\n",
    "        timeStamp = int(time.mktime(tm))\n",
    "        stamp_list.append(timeStamp)\n",
    "    return stamp_list "
   ]
  },
  {
   "cell_type": "code",
   "execution_count": 7,
   "metadata": {},
   "outputs": [],
   "source": [
    "checkin_data[1] = utc2stamp(checkin_data[1])"
   ]
  },
  {
   "cell_type": "code",
   "execution_count": 8,
   "metadata": {},
   "outputs": [
    {
     "name": "stdout",
     "output_type": "stream",
     "text": [
      "<class 'pandas.core.frame.DataFrame'>\n",
      "RangeIndex: 6442892 entries, 0 to 6442891\n",
      "Data columns (total 3 columns):\n",
      "0    int64\n",
      "1    int64\n",
      "4    int64\n",
      "dtypes: int64(3)\n",
      "memory usage: 147.5 MB\n"
     ]
    }
   ],
   "source": [
    "checkin_data.info()"
   ]
  },
  {
   "cell_type": "code",
   "execution_count": 9,
   "metadata": {},
   "outputs": [],
   "source": [
    "checkin_data.sort_values(by=[4,0]).to_csv(\"totalCheckinsFrequency.csv\",header=None, index=None)"
   ]
  },
  {
   "cell_type": "code",
   "execution_count": 10,
   "metadata": {},
   "outputs": [],
   "source": [
    "checkin_data.sort_values(by=[0,4]).to_csv(\"totalCheckinsLocation.csv\",header=None, index=None)"
   ]
  },
  {
   "cell_type": "code",
   "execution_count": 11,
   "metadata": {},
   "outputs": [],
   "source": [
    "checkin_data.to_csv(\"totalCheckinsUsers.csv\",header=None, index=None)"
   ]
  },
  {
   "cell_type": "code",
   "execution_count": 12,
   "metadata": {
    "scrolled": true
   },
   "outputs": [
    {
     "name": "stdout",
     "output_type": "stream",
     "text": [
      "Progress:0.0%\n",
      "Progress:0.9337765659433012%\n",
      "Progress:1.8675531318866023%\n",
      "Progress:2.801329697829903%\n",
      "Progress:3.7351062637732046%\n",
      "Progress:4.668882829716505%\n",
      "Progress:5.602659395659806%\n",
      "Progress:6.536435961603107%\n",
      "Progress:7.470212527546409%\n",
      "Progress:8.40398909348971%\n",
      "Progress:9.33776565943301%\n",
      "Progress:10.271542225376312%\n",
      "Progress:11.205318791319613%\n",
      "Progress:12.139095357262914%\n",
      "Progress:13.072871923206215%\n",
      "Progress:14.006648489149518%\n",
      "Progress:14.940425055092819%\n",
      "Progress:15.874201621036118%\n",
      "Progress:16.80797818697942%\n",
      "Progress:17.74175475292272%\n",
      "Progress:18.67553131886602%\n",
      "Progress:19.609307884809326%\n",
      "Progress:20.543084450752623%\n",
      "Progress:21.476861016695924%\n",
      "Progress:22.410637582639225%\n",
      "Progress:23.344414148582526%\n",
      "Progress:24.278190714525827%\n",
      "Progress:25.21196728046913%\n",
      "Progress:26.14574384641243%\n",
      "Progress:27.079520412355734%\n",
      "Progress:28.013296978299035%\n",
      "Progress:28.947073544242336%\n",
      "Progress:29.880850110185637%\n",
      "Progress:30.81462667612894%\n",
      "Progress:31.748403242072236%\n",
      "Progress:32.68217980801554%\n",
      "Progress:33.61595637395884%\n",
      "Progress:34.54973293990214%\n",
      "Progress:35.48350950584544%\n",
      "Progress:36.41728607178874%\n",
      "Progress:37.35106263773204%\n",
      "Progress:38.28483920367535%\n",
      "Progress:39.21861576961865%\n",
      "Progress:40.15239233556195%\n",
      "Progress:41.086168901505246%\n",
      "Progress:42.01994546744855%\n",
      "Progress:42.95372203339185%\n",
      "Progress:43.88749859933515%\n",
      "Progress:44.82127516527845%\n",
      "Progress:45.755051731221755%\n",
      "Progress:46.68882829716505%\n",
      "Progress:47.62260486310835%\n",
      "Progress:48.556381429051655%\n",
      "Progress:49.49015799499496%\n",
      "Progress:50.42393456093826%\n",
      "Progress:51.357711126881554%\n",
      "Progress:52.29148769282486%\n",
      "Progress:53.225264258768156%\n",
      "Progress:54.15904082471147%\n",
      "Progress:55.09281739065477%\n",
      "Progress:56.02659395659807%\n",
      "Progress:56.96037052254137%\n",
      "Progress:57.89414708848467%\n",
      "Progress:58.82792365442797%\n",
      "Progress:59.761700220371274%\n",
      "Progress:60.69547678631457%\n",
      "Progress:61.62925335225788%\n",
      "Progress:62.563029918201174%\n",
      "Progress:63.49680648414447%\n",
      "Progress:64.43058305008778%\n",
      "Progress:65.36435961603108%\n",
      "Progress:66.29813618197437%\n",
      "Progress:67.23191274791768%\n",
      "Progress:68.16568931386098%\n",
      "Progress:69.09946587980428%\n",
      "Progress:70.03324244574758%\n",
      "Progress:70.96701901169088%\n",
      "Progress:71.90079557763418%\n",
      "Progress:72.83457214357747%\n",
      "Progress:73.76834870952078%\n",
      "Progress:74.70212527546408%\n",
      "Progress:75.63590184140739%\n",
      "Progress:76.5696784073507%\n",
      "Progress:77.503454973294%\n",
      "Progress:78.4372315392373%\n",
      "Progress:79.3710081051806%\n",
      "Progress:80.3047846711239%\n",
      "Progress:81.2385612370672%\n",
      "Progress:82.17233780301049%\n",
      "Progress:83.1061143689538%\n",
      "Progress:84.0398909348971%\n",
      "Progress:84.9736675008404%\n",
      "Progress:85.9074440667837%\n",
      "Progress:86.841220632727%\n",
      "Progress:87.7749971986703%\n",
      "Progress:88.7087737646136%\n",
      "Progress:89.6425503305569%\n",
      "Progress:90.5763268965002%\n",
      "Progress:91.51010346244351%\n",
      "Progress:92.4438800283868%\n",
      "Progress:93.3776565943301%\n",
      "Progress:94.31143316027341%\n",
      "Progress:95.2452097262167%\n",
      "Progress:96.17898629216%\n",
      "Progress:97.11276285810331%\n",
      "Progress:98.04653942404661%\n",
      "Progress:98.98031598998992%\n",
      "Progress:99.91409255593322%\n",
      "        userId  locationId  visitNum  visitPercent\n",
      "0            0      420315        28      0.124444\n",
      "1            0       21714        14      0.062222\n",
      "2            0       18417         7      0.031111\n",
      "3            0      480992         6      0.026667\n",
      "4            0        9263         4      0.017778\n",
      "5            1     1389275         1      0.083333\n",
      "6            1     1431949         1      0.083333\n",
      "7            1     1436795         1      0.083333\n",
      "8            1     1423291         1      0.083333\n",
      "9            1     1414779         1      0.083333\n",
      "10           2       59838        23      0.010952\n",
      "11           2       31248         7      0.003333\n",
      "12           2       10184         7      0.003333\n",
      "13           2     1014659         7      0.003333\n",
      "14           2      197128         6      0.002857\n",
      "15           4       57155        52      0.231111\n",
      "16           4      992976        27      0.120000\n",
      "17           4      152880        10      0.044444\n",
      "18           4      125844         5      0.022222\n",
      "19           4       10024         5      0.022222\n",
      "20           5       22535        11      0.220000\n",
      "21           5      184256         2      0.040000\n",
      "22           5        9410         2      0.040000\n",
      "23           5       11365         2      0.040000\n",
      "24           5       96921         2      0.040000\n",
      "25           7      420315        21      0.280000\n",
      "26           7       21714         5      0.066667\n",
      "27           7        9241         3      0.040000\n",
      "28           7      537349         2      0.026667\n",
      "29           7       20456         2      0.026667\n",
      "...        ...         ...       ...           ...\n",
      "467172  196531     1554390         1      0.040000\n",
      "467173  196531     1436653         1      0.040000\n",
      "467174  196532     4543929         3      0.214286\n",
      "467175  196532     2165163         2      0.142857\n",
      "467176  196532     5319087         1      0.071429\n",
      "467177  196532     1032110         1      0.071429\n",
      "467178  196532     1468621         1      0.071429\n",
      "467179  196541     1349739         2      0.080000\n",
      "467180  196541     4064573         1      0.040000\n",
      "467181  196541       17563         1      0.040000\n",
      "467182  196541     1363234         1      0.040000\n",
      "467183  196541       23876         1      0.040000\n",
      "467184  196544     1349739         1      1.000000\n",
      "467185  196561      214095        16      0.128000\n",
      "467186  196561      449112        16      0.128000\n",
      "467187  196561     1887009        13      0.104000\n",
      "467188  196561     2312134        11      0.088000\n",
      "467189  196561     1597498         7      0.056000\n",
      "467190  196577      496276         2      0.111111\n",
      "467191  196577      159231         1      0.055556\n",
      "467192  196577     2877424         1      0.055556\n",
      "467193  196577       47207         1      0.055556\n",
      "467194  196577      181224         1      0.055556\n",
      "467195  196578      594064         2      0.080000\n",
      "467196  196578      899939         2      0.080000\n",
      "467197  196578      627093         2      0.080000\n",
      "467198  196578     1174322         2      0.080000\n",
      "467199  196578      697962         1      0.040000\n",
      "467200  196585     4555073         1      0.500000\n",
      "467201  196585      471724         1      0.500000\n",
      "\n",
      "[467202 rows x 4 columns]\n"
     ]
    }
   ],
   "source": [
    "users = checkin_data[0].astype(\"category\").cat.categories\n",
    "most_visited = pd.DataFrame(columns=[\"userId\", \"locationId\",\"visitNum\", \"visitPercent\"])\n",
    "\n",
    "userId = pd.Series()\n",
    "locationId = pd.Series()\n",
    "visitNum = pd.Series()\n",
    "visitPercent = pd.Series()\n",
    "num = 0\n",
    "total_num = len(users)\n",
    "for user in users:\n",
    "\n",
    "    if num % 1000 == 0:\n",
    "        print(\"Progress:{}%\".format(float(num)/total_num * 100.0))\n",
    "    num += 1\n",
    "    tmp = checkin_data[checkin_data[0].isin([user])]\n",
    "    num_visited = len(tmp)\n",
    "#     print(num_visited)\n",
    "\n",
    "    val_num = len(tmp[4].value_counts()) \n",
    "    if val_num < 5:\n",
    "        userId = userId.append(pd.Series(val_num * [user]))\n",
    "        locationId =  locationId.append(pd.Series(tmp[4].value_counts().index))\n",
    "        visitNum = visitNum.append(pd.Series(tmp[4].value_counts().values))\n",
    "        visitPercent = visitPercent.append(pd.Series(tmp[4].value_counts().values/num_visited))\n",
    "    else:\n",
    "        userId = userId.append(pd.Series(5 * [user]))\n",
    "        locationId =  locationId.append(pd.Series(tmp[4].value_counts().index[:5]))\n",
    "        visitNum = visitNum.append(pd.Series(tmp[4].value_counts().values[:5]))\n",
    "        visitPercent = visitPercent.append(pd.Series(tmp[4].value_counts().values[:5]/num_visited))\n",
    "\n",
    "\n",
    "most_visited[\"userId\"] =userId\n",
    "most_visited[\"locationId\"] =locationId\n",
    "most_visited[\"visitNum\"]=visitNum\n",
    "most_visited[\"visitPercent\"] = visitPercent\n",
    "most_visited.reset_index(inplace=True,drop=True)\n",
    "print(most_visited)\n",
    "most_visited.to_csv(\"most_visited.csv\", sep='\\t',index=False)\n",
    "                 "
   ]
  },
  {
   "cell_type": "code",
   "execution_count": 13,
   "metadata": {},
   "outputs": [],
   "source": [
    "# process_checkin(checkin_data_iter)"
   ]
  },
  {
   "cell_type": "code",
   "execution_count": 14,
   "metadata": {},
   "outputs": [],
   "source": [
    "# checkin_data[4].astype(\"category\")"
   ]
  },
  {
   "cell_type": "code",
   "execution_count": 15,
   "metadata": {},
   "outputs": [],
   "source": [
    "# checkin_data[0].astype(\"category\")"
   ]
  },
  {
   "cell_type": "code",
   "execution_count": 16,
   "metadata": {},
   "outputs": [],
   "source": [
    "# time_stamp_list = utc2stamp(checkin_data.read[1])"
   ]
  }
 ],
 "metadata": {
  "kernelspec": {
   "display_name": "Python 3",
   "language": "python",
   "name": "python3"
  },
  "language_info": {
   "codemirror_mode": {
    "name": "ipython",
    "version": 3
   },
   "file_extension": ".py",
   "mimetype": "text/x-python",
   "name": "python",
   "nbconvert_exporter": "python",
   "pygments_lexer": "ipython3",
   "version": "3.6.6"
  }
 },
 "nbformat": 4,
 "nbformat_minor": 2
}
